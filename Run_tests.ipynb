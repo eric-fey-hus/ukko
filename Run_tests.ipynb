{
 "cells": [
  {
   "cell_type": "code",
   "execution_count": null,
   "metadata": {},
   "outputs": [],
   "source": [
    "#!pip uninstall -y ukko"
   ]
  },
  {
   "cell_type": "code",
   "execution_count": null,
   "metadata": {},
   "outputs": [],
   "source": [
    "pip install -e ."
   ]
  },
  {
   "cell_type": "code",
   "execution_count": null,
   "metadata": {},
   "outputs": [],
   "source": [
    "import ukko \n",
    "import importlib\n",
    "\n",
    "importlib.reload(ukko.core)\n",
    "importlib.reload(ukko.tests_core)\n",
    "\n",
    "ukko.tests_core.test_ClassificationHead_new()\n"
   ]
  },
  {
   "cell_type": "markdown",
   "metadata": {},
   "source": [
    "# torchsurv\n",
    "\n",
    "https://github.com/Novartis/torchsurv\n",
    "\n",
    "```sh\n",
    "pip install torchsurv\n",
    "```\n"
   ]
  },
  {
   "cell_type": "code",
   "execution_count": null,
   "metadata": {},
   "outputs": [],
   "source": [
    "#pip install torchsurv"
   ]
  },
  {
   "cell_type": "markdown",
   "metadata": {},
   "source": [
    "https://github.com/Novartis/torchsurv/blob/main/docs/notebooks/helpers_introduction.py"
   ]
  },
  {
   "cell_type": "code",
   "execution_count": null,
   "metadata": {},
   "outputs": [],
   "source": [
    "class Custom_dataset(Dataset):\n",
    "    \"\"\" \"Custom dataset for the GSBG2 brain cancer dataset\"\"\"\n",
    "\n",
    "    # defining values in the constructor\n",
    "    def __init__(self, df: pd.DataFrame):\n",
    "        self.df = df\n",
    "\n",
    "    # Getting data size/length\n",
    "    def __len__(self):\n",
    "        return len(self.df)\n",
    "\n",
    "    # Getting the data samples\n",
    "    def __getitem__(self, idx):\n",
    "        sample = self.df.iloc[idx]\n",
    "        # Targets\n",
    "        event = torch.tensor(sample[\"cens\"]).bool()\n",
    "        time = torch.tensor(sample[\"time\"]).float()\n",
    "        # Predictors\n",
    "        x = torch.tensor(sample.drop([\"cens\", \"time\"]).values).float()\n",
    "        return x, (event, time)"
   ]
  },
  {
   "cell_type": "code",
   "execution_count": null,
   "metadata": {},
   "outputs": [],
   "source": [
    "from torchsurv.loss import cox\n",
    "from torchsurv.metrics.cindex import ConcordanceIndex\n",
    "\n",
    "# Dummy data, random:\n",
    "import torch\n",
    "_ = torch.manual_seed(52)\n",
    "n = 64\n",
    "x = torch.randn((n, 16))\n",
    "event = torch.randint(low=0, high=2, size=(n,)).bool()\n",
    "time = torch.randint(low=1, high=100, size=(n,)).float()"
   ]
  },
  {
   "cell_type": "code",
   "execution_count": null,
   "metadata": {},
   "outputs": [],
   "source": [
    "print(f\"Number of samples: {x.shape}\")"
   ]
  },
  {
   "cell_type": "code",
   "execution_count": null,
   "metadata": {},
   "outputs": [],
   "source": [
    "#import lifelines\n",
    "import matplotlib.pyplot as plt\n",
    "from torchsurv.stats.kaplan_meier import KaplanMeierEstimator\n",
    "\n",
    "# Create a Kaplan-Meier estimator\n",
    "km = KaplanMeierEstimator()\n",
    "\n",
    "# Compute the estimator\n",
    "km(event, time)\n",
    "\n",
    "#  Accept *kwarks from matplotlib.pyplot.plot \n",
    "km.plot_km()\n",
    "#plt.autoscale(True)\n",
    "plt.xlabel(\"Time (rnd)\")"
   ]
  },
  {
   "cell_type": "code",
   "execution_count": null,
   "metadata": {},
   "outputs": [],
   "source": [
    "# Cox proportional hazards model\n",
    "from torch import nn\n",
    "model_cox = nn.Sequential(nn.Linear(16, 1))\n",
    "log_hz = model_cox(x)\n",
    "print(log_hz.shape)\n",
    "#torch.Size([64, 1])\n",
    "\n",
    "from torchsurv.loss.cox import neg_partial_log_likelihood\n",
    "loss = neg_partial_log_likelihood(log_hz, event, time)\n",
    "print(loss)\n",
    "#tensor(4.1723, grad_fn=<DivBackward0>)\n",
    "\n",
    "from torchsurv.metrics.cindex import ConcordanceIndex\n",
    "with torch.no_grad(): log_hz = model_cox(x)\n",
    "cindex = ConcordanceIndex()\n",
    "print(cindex(log_hz, event, time))\n",
    "#tensor(0.4872)\n",
    "\n",
    "from torchsurv.metrics.auc import Auc\n",
    "new_time = torch.tensor(50.)\n",
    "auc = Auc()\n",
    "print(auc(log_hz, event, time, new_time=50))\n",
    "#tensor([0.4737])"
   ]
  },
  {
   "cell_type": "markdown",
   "metadata": {},
   "source": [
    "## AFT - Weibull"
   ]
  },
  {
   "cell_type": "code",
   "execution_count": null,
   "metadata": {},
   "outputs": [],
   "source": [
    "from torch import nn\n",
    "model_weibull = nn.Sequential(nn.Linear(16, 2))\n",
    "log_params = model_weibull(x)\n",
    "print(log_params.shape)\n",
    "#torch.Size([64, 2])\n",
    "\n",
    "from torchsurv.loss.weibull import neg_log_likelihood\n",
    "loss = neg_log_likelihood(log_params, event, time)\n",
    "print(loss)\n",
    "#tensor(82931.5078, grad_fn=<DivBackward0>)\n",
    "\n",
    "# Log hazard and survivla functions:\n",
    "from torchsurv.loss.weibull import log_hazard\n",
    "from torchsurv.loss.weibull import survival_function\n",
    "\n",
    "with torch.no_grad(): log_params = model_weibull(x)\n",
    "log_hz = log_hazard(log_params, time)\n",
    "print(log_hz.shape)\n",
    "#torch.Size([64, 64])\n",
    "\n",
    "surv = survival_function(log_params, time)\n",
    "print(surv.shape)\n",
    "#torch.Size([64, 64])\n",
    "display(surv)\n",
    "\n",
    "from torchsurv.metrics.cindex import ConcordanceIndex\n",
    "cindex = ConcordanceIndex()\n",
    "print(cindex(log_hz, event, time))\n",
    "#tensor(0.4062)\n",
    "\n",
    "from torchsurv.metrics.auc import Auc\n",
    "new_time = torch.tensor(50.)\n",
    "log_hz_t = log_hazard(log_params, time=new_time)\n",
    "auc = Auc()\n",
    "print(auc(log_hz_t, event, time, new_time=new_time))\n",
    "#tensor([0.3509])\n",
    "\n",
    "from torchsurv.metrics.brier_score import BrierScore\n",
    "brier_score = BrierScore()\n",
    "bs = brier_score(surv, event, time)\n",
    "print(brier_score.integral())\n",
    "#tensor(0.4447)"
   ]
  }
 ],
 "metadata": {
  "kernelspec": {
   "display_name": "Python 3 (ipykernel)",
   "language": "python",
   "name": "python3"
  },
  "language_info": {
   "codemirror_mode": {
    "name": "ipython",
    "version": 3
   },
   "file_extension": ".py",
   "mimetype": "text/x-python",
   "name": "python",
   "nbconvert_exporter": "python",
   "pygments_lexer": "ipython3",
   "version": "3.11.10"
  }
 },
 "nbformat": 4,
 "nbformat_minor": 4
}
