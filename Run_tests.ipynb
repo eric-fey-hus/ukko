{
 "cells": [
  {
   "cell_type": "code",
   "execution_count": null,
   "metadata": {},
   "outputs": [
    {
     "name": "stdout",
     "output_type": "stream",
     "text": [
      "Found existing installation: ukko 0.1.0\n",
      "Uninstalling ukko-0.1.0:\n",
      "  Successfully uninstalled ukko-0.1.0\n"
     ]
    }
   ],
   "source": [
    "#!pip uninstall -y ukko"
   ]
  },
  {
   "cell_type": "code",
   "execution_count": 8,
   "metadata": {},
   "outputs": [
    {
     "name": "stdout",
     "output_type": "stream",
     "text": [
      "Obtaining file:///C:/Users/ericf/Github/ukko\n",
      "  Installing build dependencies: started\n",
      "  Installing build dependencies: finished with status 'done'\n",
      "  Checking if build backend supports build_editable: started\n",
      "  Checking if build backend supports build_editable: finished with status 'done'\n",
      "  Getting requirements to build editable: started\n",
      "  Getting requirements to build editable: finished with status 'done'\n",
      "  Installing backend dependencies: started\n",
      "  Installing backend dependencies: finished with status 'done'\n",
      "  Preparing editable metadata (pyproject.toml): started\n",
      "  Preparing editable metadata (pyproject.toml): finished with status 'done'\n",
      "Building wheels for collected packages: ukko\n",
      "  Building editable for ukko (pyproject.toml): started\n",
      "  Building editable for ukko (pyproject.toml): finished with status 'done'\n",
      "  Created wheel for ukko: filename=ukko-0.1.0-py3-none-any.whl size=1091 sha256=03de1317c853b6ca16462018311d1ea0957dc6410713d06f45e2c00ac4bffdc6\n",
      "  Stored in directory: C:\\Users\\ericf\\AppData\\Local\\Temp\\pip-ephem-wheel-cache-p_2j0m9r\\wheels\\1f\\f3\\cf\\d4df49af49cd9f4511d4f3b12cb23209fec8d3f5171fd8a3f4\n",
      "Successfully built ukko\n",
      "Installing collected packages: ukko\n",
      "Successfully installed ukko-0.1.0\n",
      "Note: you may need to restart the kernel to use updated packages.\n"
     ]
    }
   ],
   "source": [
    "pip install -e ."
   ]
  },
  {
   "cell_type": "code",
   "execution_count": 7,
   "metadata": {},
   "outputs": [],
   "source": [
    "import ukko \n",
    "import importlib\n",
    "\n",
    "importlib.reload(ukko.core)\n",
    "importlib.reload(ukko.tests_core)\n",
    "\n",
    "ukko.tests_core.test_ClassificationHead_new()\n"
   ]
  }
 ],
 "metadata": {
  "kernelspec": {
   "display_name": "pytorch",
   "language": "python",
   "name": "python3"
  },
  "language_info": {
   "codemirror_mode": {
    "name": "ipython",
    "version": 3
   },
   "file_extension": ".py",
   "mimetype": "text/x-python",
   "name": "python",
   "nbconvert_exporter": "python",
   "pygments_lexer": "ipython3",
   "version": "3.11.11"
  }
 },
 "nbformat": 4,
 "nbformat_minor": 2
}
