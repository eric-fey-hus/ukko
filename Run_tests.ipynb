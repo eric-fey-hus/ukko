{
 "cells": [
  {
   "cell_type": "code",
   "execution_count": null,
   "metadata": {},
   "outputs": [
    {
     "name": "stdout",
     "output_type": "stream",
     "text": [
      "Found existing installation: ukko 0.1.0\n",
      "Uninstalling ukko-0.1.0:\n",
      "  Successfully uninstalled ukko-0.1.0\n"
     ]
    }
   ],
   "source": [
    "#!pip uninstall -y ukko"
   ]
  },
  {
   "cell_type": "code",
   "execution_count": 2,
   "metadata": {},
   "outputs": [
    {
     "name": "stdout",
     "output_type": "stream",
     "text": [
      "Defaulting to user installation because normal site-packages is not writeable\n",
      "Obtaining file:///users/ericfey1/github/ukko\n",
      "  Installing build dependencies ...done\n",
      "\u001b[?25h  Checking if build backend supports build_editable ... \u001b[?25ldone\n",
      "\u001b[?25h  Getting requirements to build editable ... \u001b[?25ldone\n",
      "\u001b[?25h  Installing backend dependencies ... \u001b[?2done\n",
      "\u001b[?25h  Preparing editable metadata (pyproject.toml) ... \u001b[?25ldone\n",
      "\u001b[?25hBuilding wheels for collected packages: ukko\n",
      "  Building editable for ukko (pyproject.toml) ... \u001b[?25ldone\n",
      "\u001b[?25h  Created wheel for ukko: filename=ukko-0.1.0-py3-none-any.whl size=1088 sha256=ecf792c0a5f0ba587d1f251fb19a246789501725ec70f3b0c387eb4910a892fa\n",
      "  Stored in directory: /tmp/ericfey1/27577474/pip-ephem-wheel-cache-fn4ppv1f/wheels/d6/05/1b/87b6398b4c9fcb6c3490d41e36b033368cd35528f738f0e67e\n",
      "Successfully built ukko\n",
      "Installing collected packages: ukko\n",
      "  Attempting uninstall: ukko\n",
      "    Found existing installation: ukko 0.1.0\n",
      "    Uninstalling ukko-0.1.0:\n",
      "      Successfully uninstalled ukko-0.1.0\n",
      "Successfully installed ukko-0.1.0\n",
      "\n",
      "\u001b[1m[\u001b[0m\u001b[34;49mnotice\u001b[0m\u001b[1;39;49m]\u001b[0m\u001b[39;49m A new release of pip is available: \u001b[0m\u001b[31;49m24.3.1\u001b[0m\u001b[39;49m -> \u001b[0m\u001b[32;49m25.0.1\u001b[0m\n",
      "\u001b[1m[\u001b[0m\u001b[34;49mnotice\u001b[0m\u001b[1;39;49m]\u001b[0m\u001b[39;49m To update, run: \u001b[0m\u001b[32;49mpython3.11 -m pip install --upgrade pip\u001b[0m\n",
      "Note: you may need to restart the kernel to use updated packages.\n"
     ]
    }
   ],
   "source": [
    "pip install -e ."
   ]
  },
  {
   "cell_type": "code",
   "execution_count": 3,
   "metadata": {},
   "outputs": [
    {
     "ename": "AttributeError",
     "evalue": "module 'ukko.core' has no attribute 'ClassificationHead_new'",
     "output_type": "error",
     "traceback": [
      "\u001b[0;31m---------------------------------------------------------------------------\u001b[0m",
      "\u001b[0;31mAttributeError\u001b[0m                            Traceback (most recent call last)",
      "Cell \u001b[0;32mIn[3], line 7\u001b[0m\n\u001b[1;32m      4\u001b[0m importlib\u001b[38;5;241m.\u001b[39mreload(ukko\u001b[38;5;241m.\u001b[39mcore)\n\u001b[1;32m      5\u001b[0m importlib\u001b[38;5;241m.\u001b[39mreload(ukko\u001b[38;5;241m.\u001b[39mtests_core)\n\u001b[0;32m----> 7\u001b[0m \u001b[43mukko\u001b[49m\u001b[38;5;241;43m.\u001b[39;49m\u001b[43mtests_core\u001b[49m\u001b[38;5;241;43m.\u001b[39;49m\u001b[43mtest_ClassificationHead_new\u001b[49m\u001b[43m(\u001b[49m\u001b[43m)\u001b[49m\n",
      "File \u001b[0;32m~/github/ukko/src/ukko/tests_core.py:47\u001b[0m, in \u001b[0;36mtest_ClassificationHead_new\u001b[0;34m()\u001b[0m\n\u001b[1;32m     45\u001b[0m \u001b[38;5;28;01mdef\u001b[39;00m \u001b[38;5;21mtest_ClassificationHead_new\u001b[39m():\n\u001b[1;32m     46\u001b[0m     \u001b[38;5;66;03m# For two binary labels\u001b[39;00m\n\u001b[0;32m---> 47\u001b[0m     head \u001b[38;5;241m=\u001b[39m \u001b[43mukko\u001b[49m\u001b[38;5;241;43m.\u001b[39;49m\u001b[43mcore\u001b[49m\u001b[38;5;241;43m.\u001b[39;49m\u001b[43mClassificationHead_new\u001b[49m(\n\u001b[1;32m     48\u001b[0m         d_model\u001b[38;5;241m=\u001b[39m\u001b[38;5;241m128\u001b[39m,\n\u001b[1;32m     49\u001b[0m         n_features\u001b[38;5;241m=\u001b[39m\u001b[38;5;241m10\u001b[39m,\n\u001b[1;32m     50\u001b[0m         n_labels\u001b[38;5;241m=\u001b[39m\u001b[38;5;241m3\u001b[39m,  \u001b[38;5;66;03m# Three independent labels\u001b[39;00m\n\u001b[1;32m     51\u001b[0m         n_classes_per_label\u001b[38;5;241m=\u001b[39m\u001b[38;5;241m2\u001b[39m,  \u001b[38;5;66;03m# Binary classification for each\u001b[39;00m\n\u001b[1;32m     52\u001b[0m         dropout\u001b[38;5;241m=\u001b[39m\u001b[38;5;241m0.1\u001b[39m,\n\u001b[1;32m     53\u001b[0m         use_learned_pooling\u001b[38;5;241m=\u001b[39m\u001b[38;5;28;01mTrue\u001b[39;00m\n\u001b[1;32m     54\u001b[0m     )\n\u001b[1;32m     56\u001b[0m     \u001b[38;5;66;03m# Example forward pass\u001b[39;00m\n\u001b[1;32m     57\u001b[0m     x \u001b[38;5;241m=\u001b[39m torch\u001b[38;5;241m.\u001b[39mrandn(\u001b[38;5;241m32\u001b[39m, \u001b[38;5;241m10\u001b[39m, \u001b[38;5;241m128\u001b[39m)  \u001b[38;5;66;03m# [batch_size, n_features, d_model]\u001b[39;00m\n",
      "\u001b[0;31mAttributeError\u001b[0m: module 'ukko.core' has no attribute 'ClassificationHead_new'"
     ]
    }
   ],
   "source": [
    "import ukko \n",
    "import importlib\n",
    "\n",
    "importlib.reload(ukko.core)\n",
    "importlib.reload(ukko.tests_core)\n",
    "\n",
    "ukko.tests_core.test_ClassificationHead_new()\n"
   ]
  },
  {
   "cell_type": "markdown",
   "metadata": {},
   "source": [
    "# torchsurv\n",
    "\n",
    "https://github.com/Novartis/torchsurv\n",
    "\n",
    "```sh\n",
    "pip install torchsurv\n",
    "```\n"
   ]
  },
  {
   "cell_type": "code",
   "execution_count": null,
   "metadata": {},
   "outputs": [],
   "source": [
    "#pip install torchsurv"
   ]
  },
  {
   "cell_type": "markdown",
   "metadata": {},
   "source": [
    "https://github.com/Novartis/torchsurv/blob/main/docs/notebooks/helpers_introduction.py"
   ]
  },
  {
   "cell_type": "code",
   "execution_count": null,
   "metadata": {},
   "outputs": [],
   "source": [
    "class Custom_dataset(Dataset):\n",
    "    \"\"\" \"Custom dataset for the GSBG2 brain cancer dataset\"\"\"\n",
    "\n",
    "    # defining values in the constructor\n",
    "    def __init__(self, df: pd.DataFrame):\n",
    "        self.df = df\n",
    "\n",
    "    # Getting data size/length\n",
    "    def __len__(self):\n",
    "        return len(self.df)\n",
    "\n",
    "    # Getting the data samples\n",
    "    def __getitem__(self, idx):\n",
    "        sample = self.df.iloc[idx]\n",
    "        # Targets\n",
    "        event = torch.tensor(sample[\"cens\"]).bool()\n",
    "        time = torch.tensor(sample[\"time\"]).float()\n",
    "        # Predictors\n",
    "        x = torch.tensor(sample.drop([\"cens\", \"time\"]).values).float()\n",
    "        return x, (event, time)"
   ]
  },
  {
   "cell_type": "code",
   "execution_count": 11,
   "metadata": {},
   "outputs": [],
   "source": [
    "from torchsurv.loss import cox\n",
    "from torchsurv.metrics.cindex import ConcordanceIndex\n",
    "\n",
    "# Dummy data, random:\n",
    "import torch\n",
    "_ = torch.manual_seed(52)\n",
    "n = 64\n",
    "x = torch.randn((n, 16))\n",
    "event = torch.randint(low=0, high=2, size=(n,)).bool()\n",
    "time = torch.randint(low=1, high=100, size=(n,)).float()"
   ]
  },
  {
   "cell_type": "code",
   "execution_count": 12,
   "metadata": {},
   "outputs": [
    {
     "name": "stdout",
     "output_type": "stream",
     "text": [
      "Number of samples: torch.Size([64, 16])\n"
     ]
    }
   ],
   "source": [
    "print(f\"Number of samples: {x.shape}\")"
   ]
  },
  {
   "cell_type": "code",
   "execution_count": 10,
   "metadata": {},
   "outputs": [
    {
     "data": {
      "text/plain": [
       "Text(0.5, 0, 'Time (rnd)')"
      ]
     },
     "execution_count": 10,
     "metadata": {},
     "output_type": "execute_result"
    },
    {
     "data": {
      "image/png": "[encoded data removed]",
      "text/plain": [
       "<Figure size 640x480 with 1 Axes>"
      ]
     },
     "metadata": {},
     "output_type": "display_data"
    }
   ],
   "source": [
    "#import lifelines\n",
    "import matplotlib.pyplot as plt\n",
    "from torchsurv.stats.kaplan_meier import KaplanMeierEstimator\n",
    "\n",
    "# Create a Kaplan-Meier estimator\n",
    "km = KaplanMeierEstimator()\n",
    "\n",
    "# Compute the estimator\n",
    "km(event, time)\n",
    "\n",
    "#  Accept *kwarks from matplotlib.pyplot.plot \n",
    "km.plot_km()\n",
    "#plt.autoscale(True)\n",
    "plt.xlabel(\"Time (rnd)\")"
   ]
  },
  {
   "cell_type": "code",
   "execution_count": 8,
   "metadata": {},
   "outputs": [
    {
     "name": "stdout",
     "output_type": "stream",
     "text": [
      "torch.Size([64, 1])\n",
      "tensor(4.1723, grad_fn=<DivBackward0>)\n",
      "tensor(0.4872)\n",
      "tensor([0.4737])\n"
     ]
    },
    {
     "name": "stderr",
     "output_type": "stream",
     "text": [
      "/users/ericfey1/.local/lib/python3.11/site-packages/torchsurv/loss/cox.py:138: UserWarning: Ties in event time detected; using efron's method to handle ties.\n",
      "  warnings.warn(\n"
     ]
    }
   ],
   "source": [
    "# Cox proportional hazards model\n",
    "from torch import nn\n",
    "model_cox = nn.Sequential(nn.Linear(16, 1))\n",
    "log_hz = model_cox(x)\n",
    "print(log_hz.shape)\n",
    "#torch.Size([64, 1])\n",
    "\n",
    "from torchsurv.loss.cox import neg_partial_log_likelihood\n",
    "loss = neg_partial_log_likelihood(log_hz, event, time)\n",
    "print(loss)\n",
    "#tensor(4.1723, grad_fn=<DivBackward0>)\n",
    "\n",
    "from torchsurv.metrics.cindex import ConcordanceIndex\n",
    "with torch.no_grad(): log_hz = model_cox(x)\n",
    "cindex = ConcordanceIndex()\n",
    "print(cindex(log_hz, event, time))\n",
    "#tensor(0.4872)\n",
    "\n",
    "from torchsurv.metrics.auc import Auc\n",
    "new_time = torch.tensor(50.)\n",
    "auc = Auc()\n",
    "print(auc(log_hz, event, time, new_time=50))\n",
    "#tensor([0.4737])"
   ]
  },
  {
   "cell_type": "markdown",
   "metadata": {},
   "source": [
    "## AFT - Weibull"
   ]
  },
  {
   "cell_type": "code",
   "execution_count": 3,
   "metadata": {},
   "outputs": [
    {
     "name": "stdout",
     "output_type": "stream",
     "text": [
      "torch.Size([64, 2])\n",
      "tensor(60258648., grad_fn=<DivBackward0>)\n",
      "torch.Size([64, 64])\n",
      "torch.Size([64, 64])\n"
     ]
    },
    {
     "data": {
      "text/plain": [
       "tensor([[4.2737e-05, 1.7822e-04, 3.0994e-06,  ..., 1.7643e-05, 1.7733e-01,\n",
       "         2.0862e-06],\n",
       "        [0.0000e+00, 0.0000e+00, 0.0000e+00,  ..., 0.0000e+00, 2.9417e-01,\n",
       "         0.0000e+00],\n",
       "        [0.0000e+00, 0.0000e+00, 0.0000e+00,  ..., 0.0000e+00, 6.6566e-04,\n",
       "         0.0000e+00],\n",
       "        ...,\n",
       "        [0.0000e+00, 0.0000e+00, 0.0000e+00,  ..., 0.0000e+00, 1.9078e-02,\n",
       "         0.0000e+00],\n",
       "        [0.0000e+00, 0.0000e+00, 0.0000e+00,  ..., 0.0000e+00, 2.4758e-02,\n",
       "         0.0000e+00],\n",
       "        [0.0000e+00, 0.0000e+00, 0.0000e+00,  ..., 0.0000e+00, 1.4008e-01,\n",
       "         0.0000e+00]])"
      ]
     },
     "metadata": {},
     "output_type": "display_data"
    },
    {
     "name": "stdout",
     "output_type": "stream",
     "text": [
      "tensor(0.5137)\n",
      "tensor([0.4965])\n",
      "tensor(0.4548)\n"
     ]
    }
   ],
   "source": [
    "from torch import nn\n",
    "model_weibull = nn.Sequential(nn.Linear(16, 2))\n",
    "log_params = model_weibull(x)\n",
    "print(log_params.shape)\n",
    "#torch.Size([64, 2])\n",
    "\n",
    "from torchsurv.loss.weibull import neg_log_likelihood\n",
    "loss = neg_log_likelihood(log_params, event, time)\n",
    "print(loss)\n",
    "#tensor(82931.5078, grad_fn=<DivBackward0>)\n",
    "\n",
    "# Log hazard and survivla functions:\n",
    "from torchsurv.loss.weibull import log_hazard\n",
    "from torchsurv.loss.weibull import survival_function\n",
    "\n",
    "with torch.no_grad(): log_params = model_weibull(x)\n",
    "log_hz = log_hazard(log_params, time)\n",
    "print(log_hz.shape)\n",
    "#torch.Size([64, 64])\n",
    "\n",
    "surv = survival_function(log_params, time)\n",
    "print(surv.shape)\n",
    "#torch.Size([64, 64])\n",
    "display(surv)\n",
    "\n",
    "from torchsurv.metrics.cindex import ConcordanceIndex\n",
    "cindex = ConcordanceIndex()\n",
    "print(cindex(log_hz, event, time))\n",
    "#tensor(0.4062)\n",
    "\n",
    "from torchsurv.metrics.auc import Auc\n",
    "new_time = torch.tensor(50.)\n",
    "log_hz_t = log_hazard(log_params, time=new_time)\n",
    "auc = Auc()\n",
    "print(auc(log_hz_t, event, time, new_time=new_time))\n",
    "#tensor([0.3509])\n",
    "\n",
    "from torchsurv.metrics.brier_score import BrierScore\n",
    "brier_score = BrierScore()\n",
    "bs = brier_score(surv, event, time)\n",
    "print(brier_score.integral())\n",
    "#tensor(0.4447)"
   ]
  }
 ],
 "metadata": {
  "kernelspec": {
   "display_name": "Python 3 (ipykernel)",
   "language": "python",
   "name": "python3"
  },
  "language_info": {
   "codemirror_mode": {
    "name": "ipython",
    "version": 3
   },
   "file_extension": ".py",
   "mimetype": "text/x-python",
   "name": "python",
   "nbconvert_exporter": "python",
   "pygments_lexer": "ipython3",
   "version": "3.11.10"
  }
 },
 "nbformat": 4,
 "nbformat_minor": 4
}
